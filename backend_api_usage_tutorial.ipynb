{
 "cells": [
  {
   "cell_type": "markdown",
   "metadata": {},
   "source": [
    "## How to Use the Backend API"
   ]
  },
  {
   "cell_type": "code",
   "execution_count": 104,
   "metadata": {},
   "outputs": [],
   "source": [
    "import requests"
   ]
  },
  {
   "cell_type": "code",
   "execution_count": 105,
   "metadata": {},
   "outputs": [],
   "source": [
    "# set the base url for the API requests and create a session\n",
    "base_url = 'http://127.0.0.1:5000/api'\n",
    "session = requests.Session()"
   ]
  },
  {
   "cell_type": "markdown",
   "metadata": {},
   "source": [
    "#### Authentication"
   ]
  },
  {
   "cell_type": "code",
   "execution_count": 106,
   "metadata": {},
   "outputs": [
    {
     "data": {
      "text/plain": [
       "{'message': 'User registered successfully.', 'user_id': 1}"
      ]
     },
     "execution_count": 106,
     "metadata": {},
     "output_type": "execute_result"
    }
   ],
   "source": [
    "# Register a user\n",
    "data = {\n",
    "    'username': 'test',\n",
    "    'email': 'test@mail.com',\n",
    "    'password': 'test'\n",
    "}\n",
    "\n",
    "r = session.post(f'{base_url}/auth/register', json=data)\n",
    "r.json()"
   ]
  },
  {
   "cell_type": "code",
   "execution_count": 107,
   "metadata": {},
   "outputs": [
    {
     "data": {
      "text/plain": [
       "{'message': 'Login successful', 'user_id': 1}"
      ]
     },
     "execution_count": 107,
     "metadata": {},
     "output_type": "execute_result"
    }
   ],
   "source": [
    "# Login a user\n",
    "r = session.post(f'{base_url}/auth/login', json={\n",
    "    'email': 'test@mail.com',\n",
    "    'password': 'test'\n",
    "})\n",
    "\n",
    "r.json()"
   ]
  },
  {
   "cell_type": "markdown",
   "metadata": {},
   "source": [
    "#### Creating API Keys"
   ]
  },
  {
   "cell_type": "code",
   "execution_count": 108,
   "metadata": {},
   "outputs": [
    {
     "data": {
      "text/plain": [
       "'{\\n  \"api_key\": \"ZAsSSJG43NDMDrjdeZT2zQ\",\\n  \"message\": \"API key generated successfully.\"\\n}\\n'"
      ]
     },
     "execution_count": 108,
     "metadata": {},
     "output_type": "execute_result"
    }
   ],
   "source": [
    "# generate an api key for a user (requires login)\n",
    "r = session.post(f'{base_url}/user/generate_api_key')\n",
    "r.text"
   ]
  },
  {
   "cell_type": "code",
   "execution_count": 109,
   "metadata": {},
   "outputs": [],
   "source": [
    "# get a user's api key\n",
    "r = session.get(f'{base_url}/user/get_api_key')\n",
    "response = r.json()\n",
    "api_key = response['api_key']"
   ]
  },
  {
   "cell_type": "markdown",
   "metadata": {},
   "source": [
    "#### Registering a vehicle"
   ]
  },
  {
   "cell_type": "code",
   "execution_count": 110,
   "metadata": {},
   "outputs": [
    {
     "data": {
      "text/plain": [
       "{'message': 'vehicle registered successfully.', 'vehicle_id': 1}"
      ]
     },
     "execution_count": 110,
     "metadata": {},
     "output_type": "execute_result"
    }
   ],
   "source": [
    "# register a vehicle to a user\n",
    "'''vehicle_name = data.get(\"vehicle_name\")\n",
    "    vehicle_number = data.get(\"vehicle_number\")\n",
    "    vehicle_type = data.get(\"vehicle_type\")\n",
    "'''\n",
    "\n",
    "data = {\n",
    "    'vehicle_name': 'test_vehicle_name_2',\n",
    "    'vehicle_number': 'test_vehicle_number_2',\n",
    "    'vehicle_type': 'test_vehicle_type'\n",
    "}\n",
    "\n",
    "headers={\n",
    "    'x-api-key': api_key\n",
    "}\n",
    "\n",
    "r = session.post(f'{base_url}/vehicle/register', json=data, headers=headers)\n",
    "r.json()\n"
   ]
  },
  {
   "cell_type": "markdown",
   "metadata": {},
   "source": [
    "#### Working with a Vehicle (and its data)"
   ]
  },
  {
   "cell_type": "code",
   "execution_count": 111,
   "metadata": {},
   "outputs": [
    {
     "data": {
      "text/plain": [
       "{'is_active': True,\n",
       " 'last_update': 'Sun, 05 Nov 2023 20:10:34 GMT',\n",
       " 'locations': [],\n",
       " 'vehicle_type': 'test_vehicle_type',\n",
       " 'vehiclename': 'test_vehicle_name_2'}"
      ]
     },
     "execution_count": 111,
     "metadata": {},
     "output_type": "execute_result"
    }
   ],
   "source": [
    "# get the vehicle details\n",
    "vehicle_id = 1\n",
    "\n",
    "\n",
    "r = session.get(f'{base_url}/vehicle/{vehicle_id}', headers=headers)\n",
    "r.json()"
   ]
  },
  {
   "cell_type": "code",
   "execution_count": 112,
   "metadata": {},
   "outputs": [
    {
     "data": {
      "text/plain": [
       "{'message': 'vehicle location updated successfully.'}"
      ]
     },
     "execution_count": 112,
     "metadata": {},
     "output_type": "execute_result"
    }
   ],
   "source": [
    "# update the vehicle location\n",
    "vehicle_id = 1\n",
    "\n",
    "data= {\n",
    "    'latitude': 10.2,\n",
    "    'longitude': 11.123\n",
    "}\n",
    "\n",
    "r = session.post(f'{base_url}/vehicle/{vehicle_id}/update_location', json=data, headers=headers)\n",
    "r.json()"
   ]
  },
  {
   "cell_type": "code",
   "execution_count": 113,
   "metadata": {},
   "outputs": [
    {
     "name": "stdout",
     "output_type": "stream",
     "text": [
      "{'message': 'vehicle location updated successfully.'}\n",
      "{'message': 'vehicle location updated successfully.'}\n",
      "{'message': 'vehicle location updated successfully.'}\n",
      "{'message': 'vehicle location updated successfully.'}\n"
     ]
    }
   ],
   "source": [
    "## adding more locations to the vehicle\n",
    "locations = [\n",
    "    {\n",
    "        'latitude': 10.2,\n",
    "        'longitude': 11.123\n",
    "    },\n",
    "    {\n",
    "        'latitude': 10.3,\n",
    "        'longitude': 11.123\n",
    "    },\n",
    "    {\n",
    "        'latitude': 10.4,\n",
    "        'longitude': 11.123\n",
    "    },\n",
    "    {\n",
    "        'latitude': 10.5,\n",
    "        'longitude': 11.123\n",
    "    },\n",
    "]\n",
    "\n",
    "for location in locations:\n",
    "    r = session.post(f'{base_url}/vehicle/{vehicle_id}/update_location', json=location, headers=headers)\n",
    "    print(r.json())"
   ]
  },
  {
   "cell_type": "markdown",
   "metadata": {},
   "source": [
    "#### Creating stations"
   ]
  },
  {
   "cell_type": "code",
   "execution_count": 114,
   "metadata": {},
   "outputs": [
    {
     "data": {
      "text/plain": [
       "{'message': 'Station created successfully.'}"
      ]
     },
     "execution_count": 114,
     "metadata": {},
     "output_type": "execute_result"
    }
   ],
   "source": [
    "data = {\n",
    "    'name': 'test_station_name',\n",
    "    'latitude': 10.2,\n",
    "    'longitude': 11.123,\n",
    "    'capacity': 100,\n",
    "    'status': 'test_status',\n",
    "    'contact_number': 'test_contact_number',\n",
    "    'email': 'teststation@mail.com'\n",
    "}\n",
    "\n",
    "r = session.post(f'{base_url}/station/create', headers=headers, json=data)\n",
    "r.json()"
   ]
  },
  {
   "cell_type": "markdown",
   "metadata": {},
   "source": [
    "#### Working with stations and vehicles"
   ]
  },
  {
   "cell_type": "code",
   "execution_count": 115,
   "metadata": {},
   "outputs": [
    {
     "data": {
      "text/plain": [
       "{'message': 'Arriving station set successfully.'}"
      ]
     },
     "execution_count": 115,
     "metadata": {},
     "output_type": "execute_result"
    }
   ],
   "source": [
    "# Add an arriving station to a vehicle (requires login)\n",
    "station_id = 1\n",
    "r = session.post(f'{base_url}/vehicle/set_arriving_station/{vehicle_id}/{station_id}', headers=headers)\n",
    "r.json()"
   ]
  },
  {
   "cell_type": "code",
   "execution_count": 116,
   "metadata": {},
   "outputs": [
    {
     "data": {
      "text/plain": [
       "{'arrival_time': 'Sun, 05 Nov 2023 20:10:34 GMT',\n",
       " 'capacity': 100,\n",
       " 'contact_number': 'test_contact_number',\n",
       " 'email': 'teststation@mail.com',\n",
       " 'id': 1,\n",
       " 'latitude': 10.2,\n",
       " 'longitude': 11.123,\n",
       " 'name': 'test_station_name',\n",
       " 'status': 'test_status'}"
      ]
     },
     "execution_count": 116,
     "metadata": {},
     "output_type": "execute_result"
    }
   ],
   "source": [
    "# show the arriving station of a vehicle (requires login)\n",
    "r = session.get(f'{base_url}/vehicle/get_arrival_station/{vehicle_id}', headers=headers)\n",
    "r.json()"
   ]
  }
 ],
 "metadata": {
  "kernelspec": {
   "display_name": ".venv",
   "language": "python",
   "name": "python3"
  },
  "language_info": {
   "codemirror_mode": {
    "name": "ipython",
    "version": 3
   },
   "file_extension": ".py",
   "mimetype": "text/x-python",
   "name": "python",
   "nbconvert_exporter": "python",
   "pygments_lexer": "ipython3",
   "version": "3.9.12"
  }
 },
 "nbformat": 4,
 "nbformat_minor": 2
}
